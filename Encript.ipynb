{
 "cells": [
  {
   "cell_type": "code",
   "execution_count": 2,
   "metadata": {},
   "outputs": [
    {
     "data": {
      "text/plain": [
       "('n¼fRçà\\x85~7\\x83à\\x81\\x943\\x1c\\x1bâò÷Af´ä[_\\x18;+\\x13Úðó\\x9féÔ{Í\\x97\\x8e@\\x02v\\x99]\\x04eÎw\\x8eþ5\"BÄ\\x16',\n",
       " 'Hello, encrypt this message with the Clifford attractor')"
      ]
     },
     "execution_count": 2,
     "metadata": {},
     "output_type": "execute_result"
    }
   ],
   "source": [
    "import numpy as np\n",
    "import matplotlib.pyplot as plt\n",
    "def clifford_attractor_sequence(a, b, c, d, x0, y0, length):\n",
    "    \"\"\"\n",
    "    Generate a pseudo-random sequence using the Clifford attractor.\n",
    "    \"\"\"\n",
    "    x, y = x0, y0\n",
    "    sequence = []\n",
    "\n",
    "    for _ in range(length):\n",
    "        x_next = np.sin(a * y) + c * np.cos(a * x)\n",
    "        y_next = np.sin(b * x) + d * np.cos(b * y)\n",
    "        sequence.append((x_next, y_next))\n",
    "        x, y = x_next, y_next\n",
    "\n",
    "    return sequence\n",
    "\n",
    "def encrypt(message, key, x0=0.1, y0=0.1):\n",
    "    \"\"\"\n",
    "    Encrypt a message using the Clifford attractor.\n",
    "    \"\"\"\n",
    "    a, b, c, d = key\n",
    "    length = len(message)\n",
    "    \n",
    "    # Generate pseudo-random sequence\n",
    "    sequence = clifford_attractor_sequence(a, b, c, d, x0, y0, length)\n",
    "\n",
    "    encrypted_message = []\n",
    "    for char, (x_val, y_val) in zip(message, sequence):\n",
    "        # Convert character to ASCII and then XOR with the pseudo-random value\n",
    "        encrypted_char = chr(ord(char) ^ (int(x_val * 1e4) % 256))\n",
    "        encrypted_message.append(encrypted_char)\n",
    "\n",
    "    return ''.join(encrypted_message)\n",
    "\n",
    "def decrypt(encrypted_message, key, x0=0.1, y0=0.1):\n",
    "    \"\"\"\n",
    "    Decrypt a message encrypted using the Clifford attractor.\n",
    "    \"\"\"\n",
    "    return encrypt(encrypted_message, key, x0, y0)  # Encryption and decryption are symmetric in this case\n",
    "\n",
    "# Test\n",
    "key = (4, -8, 3, 1)\n",
    "message = \"Hello, encrypt this message with the Clifford attractor\"\n",
    "encrypted_message = encrypt(message, key)\n",
    "decrypted_message = decrypt(encrypted_message, key)\n",
    "\n",
    "encrypted_message, decrypted_message\n"
   ]
  }
 ],
 "metadata": {
  "kernelspec": {
   "display_name": "Python 3",
   "language": "python",
   "name": "python3"
  },
  "language_info": {
   "codemirror_mode": {
    "name": "ipython",
    "version": 3
   },
   "file_extension": ".py",
   "mimetype": "text/x-python",
   "name": "python",
   "nbconvert_exporter": "python",
   "pygments_lexer": "ipython3",
   "version": "3.11.4"
  },
  "orig_nbformat": 4
 },
 "nbformat": 4,
 "nbformat_minor": 2
}
